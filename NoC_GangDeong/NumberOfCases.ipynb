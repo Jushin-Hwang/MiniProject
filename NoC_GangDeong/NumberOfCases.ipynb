{
 "cells": [
  {
   "cell_type": "code",
   "execution_count": 1,
   "metadata": {},
   "outputs": [],
   "source": [
    "import itertools\n",
    "from collections import defaultdict\n",
    "import pandas as pd"
   ]
  },
  {
   "cell_type": "code",
   "execution_count": 7,
   "metadata": {},
   "outputs": [
    {
     "name": "stdout",
     "output_type": "stream",
     "text": [
      "729\n"
     ]
    }
   ],
   "source": [
    "print(3 ** 6)"
   ]
  },
  {
   "cell_type": "code",
   "execution_count": 8,
   "metadata": {},
   "outputs": [],
   "source": [
    "# 기본 변수 설정\n",
    "Cases = ['W', 'D', 'L']  # W=Win, D=Draw, L=Loss\n",
    "Initial_Teams = {'인천': 36, '전북': 38, '광주': 45, '대전': 42, '대구': 40, '제주': 48}\n",
    "Matches = [\n",
    "    [['제주', '광주'], ['전북', '대구'], ['인천', '대전']],  # 37라운드\n",
    "    [['대전', '제주'], ['대구', '인천'], ['광주', '전북']]   # 38라운드\n",
    "]"
   ]
  },
  {
   "cell_type": "code",
   "execution_count": 9,
   "metadata": {},
   "outputs": [],
   "source": [
    "# 결과 저장 리스트\n",
    "results = []\n",
    "\n",
    "# 점수 업데이트 함수\n",
    "def update_points(teams, match, result):\n",
    "    team1, team2 = match\n",
    "    if result == 'W':  # team1 승리\n",
    "        teams[team1] += 3\n",
    "    elif result == 'D':  # 무승부\n",
    "        teams[team1] += 1\n",
    "        teams[team2] += 1\n",
    "    elif result == 'L':  # team2 승리\n",
    "        teams[team2] += 3"
   ]
  },
  {
   "cell_type": "code",
   "execution_count": 10,
   "metadata": {},
   "outputs": [],
   "source": [
    "# 각 라운드별 경우의 수 시뮬레이션\n",
    "current_round_results = [Initial_Teams]  # 첫 번째 라운드는 초기 점수로 시작\n",
    "round_results = []\n",
    "\n",
    "for round_num, round_matches in enumerate(Matches, start=37):\n",
    "    next_round_results = []  # 다음 라운드로 전달할 결과 저장\n",
    "\n",
    "    for team_scores in current_round_results:\n",
    "        # 각 라운드 내 경기의 경우의 수 계산\n",
    "        match_cases = list(itertools.product(Cases, repeat=len(round_matches)))\n",
    "        \n",
    "        for case in match_cases:\n",
    "            temp_teams = team_scores.copy()  # 이전 라운드 결과를 복사하여 사용\n",
    "            for match, result in zip(round_matches, case):\n",
    "                update_points(temp_teams, match, result)\n",
    "            \n",
    "            # 38라운드의 최종 결과만 저장\n",
    "            if round_num == 38:\n",
    "                sorted_teams = sorted(temp_teams.items(), key=lambda x: x[1], reverse=True)\n",
    "                # 각 경우의 수에 대해 순위와 점수를 데이터로 저장\n",
    "                round_results.append({\n",
    "                    \"경우의 수\": case,\n",
    "                    **{team: points for team, points in sorted_teams}\n",
    "                })\n",
    "\n",
    "            next_round_results.append(temp_teams)  # 다음 라운드에 전달할 결과 저장\n",
    "\n",
    "    current_round_results = next_round_results  # 다음 라운드로 점수 전달"
   ]
  },
  {
   "cell_type": "code",
   "execution_count": 11,
   "metadata": {},
   "outputs": [],
   "source": [
    "# 결과 출력\n",
    "for round_num, case, ranking in results:\n",
    "    print(f\"{round_num}라운드 경기 결과: {case}\")\n",
    "    for rank, (team, points) in enumerate(ranking, start=1):\n",
    "        print(f\"{rank}위: {team} - {points}점\")\n",
    "    print()"
   ]
  },
  {
   "cell_type": "code",
   "execution_count": 12,
   "metadata": {},
   "outputs": [
    {
     "data": {
      "text/html": [
       "<div>\n",
       "<style scoped>\n",
       "    .dataframe tbody tr th:only-of-type {\n",
       "        vertical-align: middle;\n",
       "    }\n",
       "\n",
       "    .dataframe tbody tr th {\n",
       "        vertical-align: top;\n",
       "    }\n",
       "\n",
       "    .dataframe thead th {\n",
       "        text-align: right;\n",
       "    }\n",
       "</style>\n",
       "<table border=\"1\" class=\"dataframe\">\n",
       "  <thead>\n",
       "    <tr style=\"text-align: right;\">\n",
       "      <th></th>\n",
       "      <th>제주</th>\n",
       "      <th>광주</th>\n",
       "      <th>대전</th>\n",
       "      <th>대구</th>\n",
       "      <th>전북</th>\n",
       "      <th>인천</th>\n",
       "    </tr>\n",
       "  </thead>\n",
       "  <tbody>\n",
       "    <tr>\n",
       "      <th>0</th>\n",
       "      <td>51</td>\n",
       "      <td>48</td>\n",
       "      <td>45</td>\n",
       "      <td>43</td>\n",
       "      <td>41</td>\n",
       "      <td>39</td>\n",
       "    </tr>\n",
       "    <tr>\n",
       "      <th>1</th>\n",
       "      <td>51</td>\n",
       "      <td>46</td>\n",
       "      <td>45</td>\n",
       "      <td>43</td>\n",
       "      <td>42</td>\n",
       "      <td>39</td>\n",
       "    </tr>\n",
       "    <tr>\n",
       "      <th>2</th>\n",
       "      <td>51</td>\n",
       "      <td>45</td>\n",
       "      <td>45</td>\n",
       "      <td>43</td>\n",
       "      <td>44</td>\n",
       "      <td>39</td>\n",
       "    </tr>\n",
       "    <tr>\n",
       "      <th>3</th>\n",
       "      <td>51</td>\n",
       "      <td>48</td>\n",
       "      <td>45</td>\n",
       "      <td>41</td>\n",
       "      <td>41</td>\n",
       "      <td>40</td>\n",
       "    </tr>\n",
       "    <tr>\n",
       "      <th>4</th>\n",
       "      <td>51</td>\n",
       "      <td>46</td>\n",
       "      <td>45</td>\n",
       "      <td>41</td>\n",
       "      <td>42</td>\n",
       "      <td>40</td>\n",
       "    </tr>\n",
       "    <tr>\n",
       "      <th>...</th>\n",
       "      <td>...</td>\n",
       "      <td>...</td>\n",
       "      <td>...</td>\n",
       "      <td>...</td>\n",
       "      <td>...</td>\n",
       "      <td>...</td>\n",
       "    </tr>\n",
       "    <tr>\n",
       "      <th>724</th>\n",
       "      <td>51</td>\n",
       "      <td>49</td>\n",
       "      <td>45</td>\n",
       "      <td>44</td>\n",
       "      <td>39</td>\n",
       "      <td>37</td>\n",
       "    </tr>\n",
       "    <tr>\n",
       "      <th>725</th>\n",
       "      <td>51</td>\n",
       "      <td>48</td>\n",
       "      <td>45</td>\n",
       "      <td>44</td>\n",
       "      <td>41</td>\n",
       "      <td>37</td>\n",
       "    </tr>\n",
       "    <tr>\n",
       "      <th>726</th>\n",
       "      <td>51</td>\n",
       "      <td>51</td>\n",
       "      <td>45</td>\n",
       "      <td>43</td>\n",
       "      <td>38</td>\n",
       "      <td>39</td>\n",
       "    </tr>\n",
       "    <tr>\n",
       "      <th>727</th>\n",
       "      <td>51</td>\n",
       "      <td>49</td>\n",
       "      <td>45</td>\n",
       "      <td>43</td>\n",
       "      <td>39</td>\n",
       "      <td>39</td>\n",
       "    </tr>\n",
       "    <tr>\n",
       "      <th>728</th>\n",
       "      <td>51</td>\n",
       "      <td>48</td>\n",
       "      <td>45</td>\n",
       "      <td>43</td>\n",
       "      <td>41</td>\n",
       "      <td>39</td>\n",
       "    </tr>\n",
       "  </tbody>\n",
       "</table>\n",
       "<p>729 rows × 6 columns</p>\n",
       "</div>"
      ],
      "text/plain": [
       "     제주  광주  대전  대구  전북  인천\n",
       "0    51  48  45  43  41  39\n",
       "1    51  46  45  43  42  39\n",
       "2    51  45  45  43  44  39\n",
       "3    51  48  45  41  41  40\n",
       "4    51  46  45  41  42  40\n",
       "..   ..  ..  ..  ..  ..  ..\n",
       "724  51  49  45  44  39  37\n",
       "725  51  48  45  44  41  37\n",
       "726  51  51  45  43  38  39\n",
       "727  51  49  45  43  39  39\n",
       "728  51  48  45  43  41  39\n",
       "\n",
       "[729 rows x 6 columns]"
      ]
     },
     "execution_count": 12,
     "metadata": {},
     "output_type": "execute_result"
    }
   ],
   "source": [
    "# DataFrame 생성\n",
    "df_38_round = pd.DataFrame(round_results)\n",
    "\n",
    "df_38_round = df_38_round.drop(['경우의 수'], axis = 1)\n",
    "\n",
    "df_38_round"
   ]
  },
  {
   "cell_type": "code",
   "execution_count": null,
   "metadata": {},
   "outputs": [
    {
     "data": {
      "text/html": [
       "<div>\n",
       "<style scoped>\n",
       "    .dataframe tbody tr th:only-of-type {\n",
       "        vertical-align: middle;\n",
       "    }\n",
       "\n",
       "    .dataframe tbody tr th {\n",
       "        vertical-align: top;\n",
       "    }\n",
       "\n",
       "    .dataframe thead th {\n",
       "        text-align: right;\n",
       "    }\n",
       "</style>\n",
       "<table border=\"1\" class=\"dataframe\">\n",
       "  <thead>\n",
       "    <tr style=\"text-align: right;\">\n",
       "      <th></th>\n",
       "      <th>제주</th>\n",
       "      <th>광주</th>\n",
       "      <th>대전</th>\n",
       "      <th>대구</th>\n",
       "      <th>전북</th>\n",
       "      <th>인천</th>\n",
       "    </tr>\n",
       "  </thead>\n",
       "  <tbody>\n",
       "    <tr>\n",
       "      <th>0</th>\n",
       "      <td>51</td>\n",
       "      <td>48</td>\n",
       "      <td>45</td>\n",
       "      <td>43</td>\n",
       "      <td>41</td>\n",
       "      <td>39</td>\n",
       "    </tr>\n",
       "    <tr>\n",
       "      <th>1</th>\n",
       "      <td>51</td>\n",
       "      <td>46</td>\n",
       "      <td>45</td>\n",
       "      <td>43</td>\n",
       "      <td>42</td>\n",
       "      <td>39</td>\n",
       "    </tr>\n",
       "    <tr>\n",
       "      <th>2</th>\n",
       "      <td>51</td>\n",
       "      <td>45</td>\n",
       "      <td>45</td>\n",
       "      <td>43</td>\n",
       "      <td>44</td>\n",
       "      <td>39</td>\n",
       "    </tr>\n",
       "    <tr>\n",
       "      <th>3</th>\n",
       "      <td>51</td>\n",
       "      <td>48</td>\n",
       "      <td>45</td>\n",
       "      <td>41</td>\n",
       "      <td>41</td>\n",
       "      <td>40</td>\n",
       "    </tr>\n",
       "    <tr>\n",
       "      <th>4</th>\n",
       "      <td>51</td>\n",
       "      <td>46</td>\n",
       "      <td>45</td>\n",
       "      <td>41</td>\n",
       "      <td>42</td>\n",
       "      <td>40</td>\n",
       "    </tr>\n",
       "    <tr>\n",
       "      <th>...</th>\n",
       "      <td>...</td>\n",
       "      <td>...</td>\n",
       "      <td>...</td>\n",
       "      <td>...</td>\n",
       "      <td>...</td>\n",
       "      <td>...</td>\n",
       "    </tr>\n",
       "    <tr>\n",
       "      <th>722</th>\n",
       "      <td>51</td>\n",
       "      <td>48</td>\n",
       "      <td>45</td>\n",
       "      <td>46</td>\n",
       "      <td>41</td>\n",
       "      <td>36</td>\n",
       "    </tr>\n",
       "    <tr>\n",
       "      <th>723</th>\n",
       "      <td>51</td>\n",
       "      <td>51</td>\n",
       "      <td>45</td>\n",
       "      <td>44</td>\n",
       "      <td>38</td>\n",
       "      <td>37</td>\n",
       "    </tr>\n",
       "    <tr>\n",
       "      <th>724</th>\n",
       "      <td>51</td>\n",
       "      <td>49</td>\n",
       "      <td>45</td>\n",
       "      <td>44</td>\n",
       "      <td>39</td>\n",
       "      <td>37</td>\n",
       "    </tr>\n",
       "    <tr>\n",
       "      <th>725</th>\n",
       "      <td>51</td>\n",
       "      <td>48</td>\n",
       "      <td>45</td>\n",
       "      <td>44</td>\n",
       "      <td>41</td>\n",
       "      <td>37</td>\n",
       "    </tr>\n",
       "    <tr>\n",
       "      <th>728</th>\n",
       "      <td>51</td>\n",
       "      <td>48</td>\n",
       "      <td>45</td>\n",
       "      <td>43</td>\n",
       "      <td>41</td>\n",
       "      <td>39</td>\n",
       "    </tr>\n",
       "  </tbody>\n",
       "</table>\n",
       "<p>486 rows × 6 columns</p>\n",
       "</div>"
      ],
      "text/plain": [
       "     제주  광주  대전  대구  전북  인천\n",
       "0    51  48  45  43  41  39\n",
       "1    51  46  45  43  42  39\n",
       "2    51  45  45  43  44  39\n",
       "3    51  48  45  41  41  40\n",
       "4    51  46  45  41  42  40\n",
       "..   ..  ..  ..  ..  ..  ..\n",
       "722  51  48  45  46  41  36\n",
       "723  51  51  45  44  38  37\n",
       "724  51  49  45  44  39  37\n",
       "725  51  48  45  44  41  37\n",
       "728  51  48  45  43  41  39\n",
       "\n",
       "[486 rows x 6 columns]"
      ]
     },
     "execution_count": 14,
     "metadata": {},
     "output_type": "execute_result"
    }
   ],
   "source": [
    "# 1) '인천' 이 단독 꼴찌할 경우의 수\n",
    "df_1 = df_38_round[\n",
    "    (\n",
    "        (df_38_round['인천'] < df_38_round['전북']) &\n",
    "        (df_38_round['인천'] < df_38_round['광주']) &\n",
    "        (df_38_round['인천'] < df_38_round['대전']) &\n",
    "        (df_38_round['인천'] < df_38_round['대구']) &\n",
    "        (df_38_round['인천'] < df_38_round['제주'])\n",
    "    )\n",
    "]\n",
    "\n",
    "# 결과 확인\n",
    "df_1\n"
   ]
  },
  {
   "cell_type": "code",
   "execution_count": 16,
   "metadata": {},
   "outputs": [
    {
     "data": {
      "text/plain": [
       "66.66666666666666"
      ]
     },
     "execution_count": 16,
     "metadata": {},
     "output_type": "execute_result"
    }
   ],
   "source": [
    "486 / 729 * 100"
   ]
  },
  {
   "cell_type": "code",
   "execution_count": 17,
   "metadata": {},
   "outputs": [
    {
     "data": {
      "text/html": [
       "<div>\n",
       "<style scoped>\n",
       "    .dataframe tbody tr th:only-of-type {\n",
       "        vertical-align: middle;\n",
       "    }\n",
       "\n",
       "    .dataframe tbody tr th {\n",
       "        vertical-align: top;\n",
       "    }\n",
       "\n",
       "    .dataframe thead th {\n",
       "        text-align: right;\n",
       "    }\n",
       "</style>\n",
       "<table border=\"1\" class=\"dataframe\">\n",
       "  <thead>\n",
       "    <tr style=\"text-align: right;\">\n",
       "      <th></th>\n",
       "      <th>제주</th>\n",
       "      <th>광주</th>\n",
       "      <th>대전</th>\n",
       "      <th>대구</th>\n",
       "      <th>전북</th>\n",
       "      <th>인천</th>\n",
       "    </tr>\n",
       "  </thead>\n",
       "  <tbody>\n",
       "    <tr>\n",
       "      <th>84</th>\n",
       "      <td>51</td>\n",
       "      <td>48</td>\n",
       "      <td>45</td>\n",
       "      <td>42</td>\n",
       "      <td>39</td>\n",
       "      <td>40</td>\n",
       "    </tr>\n",
       "    <tr>\n",
       "      <th>87</th>\n",
       "      <td>51</td>\n",
       "      <td>48</td>\n",
       "      <td>45</td>\n",
       "      <td>41</td>\n",
       "      <td>39</td>\n",
       "      <td>42</td>\n",
       "    </tr>\n",
       "    <tr>\n",
       "      <th>88</th>\n",
       "      <td>51</td>\n",
       "      <td>46</td>\n",
       "      <td>45</td>\n",
       "      <td>41</td>\n",
       "      <td>40</td>\n",
       "      <td>42</td>\n",
       "    </tr>\n",
       "    <tr>\n",
       "      <th>93</th>\n",
       "      <td>52</td>\n",
       "      <td>48</td>\n",
       "      <td>43</td>\n",
       "      <td>42</td>\n",
       "      <td>39</td>\n",
       "      <td>40</td>\n",
       "    </tr>\n",
       "    <tr>\n",
       "      <th>96</th>\n",
       "      <td>52</td>\n",
       "      <td>48</td>\n",
       "      <td>43</td>\n",
       "      <td>41</td>\n",
       "      <td>39</td>\n",
       "      <td>42</td>\n",
       "    </tr>\n",
       "    <tr>\n",
       "      <th>...</th>\n",
       "      <td>...</td>\n",
       "      <td>...</td>\n",
       "      <td>...</td>\n",
       "      <td>...</td>\n",
       "      <td>...</td>\n",
       "      <td>...</td>\n",
       "    </tr>\n",
       "    <tr>\n",
       "      <th>699</th>\n",
       "      <td>51</td>\n",
       "      <td>51</td>\n",
       "      <td>43</td>\n",
       "      <td>43</td>\n",
       "      <td>38</td>\n",
       "      <td>40</td>\n",
       "    </tr>\n",
       "    <tr>\n",
       "      <th>700</th>\n",
       "      <td>51</td>\n",
       "      <td>49</td>\n",
       "      <td>43</td>\n",
       "      <td>43</td>\n",
       "      <td>39</td>\n",
       "      <td>40</td>\n",
       "    </tr>\n",
       "    <tr>\n",
       "      <th>708</th>\n",
       "      <td>48</td>\n",
       "      <td>51</td>\n",
       "      <td>48</td>\n",
       "      <td>43</td>\n",
       "      <td>38</td>\n",
       "      <td>39</td>\n",
       "    </tr>\n",
       "    <tr>\n",
       "      <th>717</th>\n",
       "      <td>49</td>\n",
       "      <td>51</td>\n",
       "      <td>46</td>\n",
       "      <td>43</td>\n",
       "      <td>38</td>\n",
       "      <td>39</td>\n",
       "    </tr>\n",
       "    <tr>\n",
       "      <th>726</th>\n",
       "      <td>51</td>\n",
       "      <td>51</td>\n",
       "      <td>45</td>\n",
       "      <td>43</td>\n",
       "      <td>38</td>\n",
       "      <td>39</td>\n",
       "    </tr>\n",
       "  </tbody>\n",
       "</table>\n",
       "<p>117 rows × 6 columns</p>\n",
       "</div>"
      ],
      "text/plain": [
       "     제주  광주  대전  대구  전북  인천\n",
       "84   51  48  45  42  39  40\n",
       "87   51  48  45  41  39  42\n",
       "88   51  46  45  41  40  42\n",
       "93   52  48  43  42  39  40\n",
       "96   52  48  43  41  39  42\n",
       "..   ..  ..  ..  ..  ..  ..\n",
       "699  51  51  43  43  38  40\n",
       "700  51  49  43  43  39  40\n",
       "708  48  51  48  43  38  39\n",
       "717  49  51  46  43  38  39\n",
       "726  51  51  45  43  38  39\n",
       "\n",
       "[117 rows x 6 columns]"
      ]
     },
     "execution_count": 17,
     "metadata": {},
     "output_type": "execute_result"
    }
   ],
   "source": [
    "# 2) '전북' 점수가 가장 낮은 DataFrame\n",
    "df_2 = df_38_round[\n",
    "    (\n",
    "        (df_38_round['전북'] < df_38_round['인천']) &\n",
    "        (df_38_round['전북'] < df_38_round['광주']) &\n",
    "        (df_38_round['전북'] < df_38_round['대전']) &\n",
    "        (df_38_round['전북'] < df_38_round['대구']) &\n",
    "        (df_38_round['전북'] < df_38_round['제주'])\n",
    "    )\n",
    "]\n",
    "\n",
    "# 결과 확인\n",
    "df_2\n"
   ]
  },
  {
   "cell_type": "code",
   "execution_count": 18,
   "metadata": {},
   "outputs": [
    {
     "data": {
      "text/plain": [
       "16.049382716049383"
      ]
     },
     "execution_count": 18,
     "metadata": {},
     "output_type": "execute_result"
    }
   ],
   "source": [
    "117 / 729 * 100"
   ]
  },
  {
   "cell_type": "code",
   "execution_count": 19,
   "metadata": {},
   "outputs": [
    {
     "data": {
      "text/html": [
       "<div>\n",
       "<style scoped>\n",
       "    .dataframe tbody tr th:only-of-type {\n",
       "        vertical-align: middle;\n",
       "    }\n",
       "\n",
       "    .dataframe tbody tr th {\n",
       "        vertical-align: top;\n",
       "    }\n",
       "\n",
       "    .dataframe thead th {\n",
       "        text-align: right;\n",
       "    }\n",
       "</style>\n",
       "<table border=\"1\" class=\"dataframe\">\n",
       "  <thead>\n",
       "    <tr style=\"text-align: right;\">\n",
       "      <th></th>\n",
       "      <th>제주</th>\n",
       "      <th>광주</th>\n",
       "      <th>대전</th>\n",
       "      <th>대구</th>\n",
       "      <th>전북</th>\n",
       "      <th>인천</th>\n",
       "    </tr>\n",
       "  </thead>\n",
       "  <tbody>\n",
       "    <tr>\n",
       "      <th>81</th>\n",
       "      <td>51</td>\n",
       "      <td>48</td>\n",
       "      <td>45</td>\n",
       "      <td>44</td>\n",
       "      <td>39</td>\n",
       "      <td>39</td>\n",
       "    </tr>\n",
       "    <tr>\n",
       "      <th>85</th>\n",
       "      <td>51</td>\n",
       "      <td>46</td>\n",
       "      <td>45</td>\n",
       "      <td>42</td>\n",
       "      <td>40</td>\n",
       "      <td>40</td>\n",
       "    </tr>\n",
       "    <tr>\n",
       "      <th>90</th>\n",
       "      <td>52</td>\n",
       "      <td>48</td>\n",
       "      <td>43</td>\n",
       "      <td>44</td>\n",
       "      <td>39</td>\n",
       "      <td>39</td>\n",
       "    </tr>\n",
       "    <tr>\n",
       "      <th>94</th>\n",
       "      <td>52</td>\n",
       "      <td>46</td>\n",
       "      <td>43</td>\n",
       "      <td>42</td>\n",
       "      <td>40</td>\n",
       "      <td>40</td>\n",
       "    </tr>\n",
       "    <tr>\n",
       "      <th>99</th>\n",
       "      <td>54</td>\n",
       "      <td>48</td>\n",
       "      <td>42</td>\n",
       "      <td>44</td>\n",
       "      <td>39</td>\n",
       "      <td>39</td>\n",
       "    </tr>\n",
       "    <tr>\n",
       "      <th>...</th>\n",
       "      <td>...</td>\n",
       "      <td>...</td>\n",
       "      <td>...</td>\n",
       "      <td>...</td>\n",
       "      <td>...</td>\n",
       "      <td>...</td>\n",
       "    </tr>\n",
       "    <tr>\n",
       "      <th>687</th>\n",
       "      <td>49</td>\n",
       "      <td>51</td>\n",
       "      <td>44</td>\n",
       "      <td>44</td>\n",
       "      <td>38</td>\n",
       "      <td>38</td>\n",
       "    </tr>\n",
       "    <tr>\n",
       "      <th>696</th>\n",
       "      <td>51</td>\n",
       "      <td>51</td>\n",
       "      <td>43</td>\n",
       "      <td>44</td>\n",
       "      <td>38</td>\n",
       "      <td>38</td>\n",
       "    </tr>\n",
       "    <tr>\n",
       "      <th>709</th>\n",
       "      <td>48</td>\n",
       "      <td>49</td>\n",
       "      <td>48</td>\n",
       "      <td>43</td>\n",
       "      <td>39</td>\n",
       "      <td>39</td>\n",
       "    </tr>\n",
       "    <tr>\n",
       "      <th>718</th>\n",
       "      <td>49</td>\n",
       "      <td>49</td>\n",
       "      <td>46</td>\n",
       "      <td>43</td>\n",
       "      <td>39</td>\n",
       "      <td>39</td>\n",
       "    </tr>\n",
       "    <tr>\n",
       "      <th>727</th>\n",
       "      <td>51</td>\n",
       "      <td>49</td>\n",
       "      <td>45</td>\n",
       "      <td>43</td>\n",
       "      <td>39</td>\n",
       "      <td>39</td>\n",
       "    </tr>\n",
       "  </tbody>\n",
       "</table>\n",
       "<p>63 rows × 6 columns</p>\n",
       "</div>"
      ],
      "text/plain": [
       "     제주  광주  대전  대구  전북  인천\n",
       "81   51  48  45  44  39  39\n",
       "85   51  46  45  42  40  40\n",
       "90   52  48  43  44  39  39\n",
       "94   52  46  43  42  40  40\n",
       "99   54  48  42  44  39  39\n",
       "..   ..  ..  ..  ..  ..  ..\n",
       "687  49  51  44  44  38  38\n",
       "696  51  51  43  44  38  38\n",
       "709  48  49  48  43  39  39\n",
       "718  49  49  46  43  39  39\n",
       "727  51  49  45  43  39  39\n",
       "\n",
       "[63 rows x 6 columns]"
      ]
     },
     "execution_count": 19,
     "metadata": {},
     "output_type": "execute_result"
    }
   ],
   "source": [
    "# 3) '전북' 점수가 가장 낮은 DataFrame\n",
    "df_3 = df_38_round[\n",
    "    (\n",
    "        (df_38_round['전북'] == df_38_round['인천']) &\n",
    "        (df_38_round['전북'] < df_38_round['광주']) &\n",
    "        (df_38_round['전북'] < df_38_round['대전']) &\n",
    "        (df_38_round['전북'] < df_38_round['대구']) &\n",
    "        (df_38_round['전북'] < df_38_round['제주'])\n",
    "    )\n",
    "]\n",
    "\n",
    "# 결과 확인\n",
    "df_3\n"
   ]
  },
  {
   "cell_type": "code",
   "execution_count": 20,
   "metadata": {},
   "outputs": [
    {
     "data": {
      "text/plain": [
       "8.641975308641975"
      ]
     },
     "execution_count": 20,
     "metadata": {},
     "output_type": "execute_result"
    }
   ],
   "source": [
    "63 / 729 * 100"
   ]
  },
  {
   "cell_type": "code",
   "execution_count": 23,
   "metadata": {},
   "outputs": [
    {
     "data": {
      "text/plain": [
       "(54, 6)"
      ]
     },
     "execution_count": 23,
     "metadata": {},
     "output_type": "execute_result"
    }
   ],
   "source": [
    "# 인천이 골득실로 12위가 갈릴 경우\n",
    "df_4 = df_38_round[\n",
    "    (\n",
    "        (df_38_round['인천'] == df_38_round['광주']) |\n",
    "        (df_38_round['인천'] == df_38_round['대전']) |\n",
    "        (df_38_round['인천'] == df_38_round['대구']) |\n",
    "        (df_38_round['인천'] == df_38_round['제주'])\n",
    "    )\n",
    "]\n",
    "\n",
    "# 결과 확인\n",
    "df_4.shape\n"
   ]
  },
  {
   "cell_type": "code",
   "execution_count": 24,
   "metadata": {},
   "outputs": [
    {
     "data": {
      "text/plain": [
       "(78, 6)"
      ]
     },
     "execution_count": 24,
     "metadata": {},
     "output_type": "execute_result"
    }
   ],
   "source": [
    "# 전북이 골득실로 12위가 갈릴 경우\n",
    "df_5 = df_38_round[\n",
    "    (\n",
    "        (df_38_round['전북'] == df_38_round['광주']) |\n",
    "        (df_38_round['전북'] == df_38_round['대전']) |\n",
    "        (df_38_round['전북'] == df_38_round['대구']) |\n",
    "        (df_38_round['전북'] == df_38_round['제주'])\n",
    "    )\n",
    "]\n",
    "\n",
    "# 결과 확인\n",
    "df_5.shape\n"
   ]
  },
  {
   "cell_type": "code",
   "execution_count": 26,
   "metadata": {},
   "outputs": [
    {
     "name": "stdout",
     "output_type": "stream",
     "text": [
      "(54, 6)\n",
      "(78, 6)\n",
      "132\n"
     ]
    }
   ],
   "source": [
    "# 결과 확인\n",
    "print(df_4.shape)\n",
    "print(df_5.shape)\n",
    "\n",
    "print(54 + 78)"
   ]
  },
  {
   "cell_type": "code",
   "execution_count": 27,
   "metadata": {},
   "outputs": [
    {
     "data": {
      "text/plain": [
       "0.9135802469135802"
      ]
     },
     "execution_count": 27,
     "metadata": {},
     "output_type": "execute_result"
    }
   ],
   "source": [
    "(486 + 117 + 63) / 729"
   ]
  },
  {
   "cell_type": "code",
   "execution_count": 31,
   "metadata": {},
   "outputs": [
    {
     "data": {
      "text/plain": [
       "(36, 6)"
      ]
     },
     "execution_count": 31,
     "metadata": {},
     "output_type": "execute_result"
    }
   ],
   "source": [
    "# 전북, 인천을 제외한 팀이 12위가 될 경우의 수\n",
    "df_6 = df_38_round[\n",
    "    (\n",
    "        ((df_38_round['대전'] < df_38_round['인천']) & (df_38_round['대전'] < df_38_round['전북'])) |\n",
    "        ((df_38_round['제주'] < df_38_round['인천']) & (df_38_round['제주'] < df_38_round['전북'])) |\n",
    "        ((df_38_round['대구'] < df_38_round['인천']) & (df_38_round['대구'] < df_38_round['전북'])) |\n",
    "        ((df_38_round['광주'] < df_38_round['인천']) & (df_38_round['광주'] < df_38_round['전북']))\n",
    "    )\n",
    "]\n",
    "\n",
    "# 결과 확인\n",
    "df_6.shape\n"
   ]
  },
  {
   "cell_type": "code",
   "execution_count": 32,
   "metadata": {},
   "outputs": [
    {
     "data": {
      "text/plain": [
       "0.04938271604938271"
      ]
     },
     "execution_count": 32,
     "metadata": {},
     "output_type": "execute_result"
    }
   ],
   "source": [
    "36 / 729"
   ]
  },
  {
   "cell_type": "code",
   "execution_count": 101,
   "metadata": {},
   "outputs": [
    {
     "data": {
      "text/plain": [
       "0.06660570035055632"
      ]
     },
     "execution_count": 101,
     "metadata": {},
     "output_type": "execute_result"
    }
   ],
   "source": [
    "1311 / 19683"
   ]
  }
 ],
 "metadata": {
  "kernelspec": {
   "display_name": "Python 3",
   "language": "python",
   "name": "python3"
  },
  "language_info": {
   "codemirror_mode": {
    "name": "ipython",
    "version": 3
   },
   "file_extension": ".py",
   "mimetype": "text/x-python",
   "name": "python",
   "nbconvert_exporter": "python",
   "pygments_lexer": "ipython3",
   "version": "3.12.2"
  }
 },
 "nbformat": 4,
 "nbformat_minor": 2
}
